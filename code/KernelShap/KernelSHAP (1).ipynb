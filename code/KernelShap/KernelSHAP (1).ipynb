{
 "cells": [
  {
   "cell_type": "code",
   "execution_count": 1,
   "id": "a33ec648",
   "metadata": {},
   "outputs": [],
   "source": [
    "import numpy as np\n",
    "import pandas as pd\n",
    "import matplotlib.pyplot as plt"
   ]
  },
  {
   "cell_type": "markdown",
   "id": "edeee5db",
   "metadata": {},
   "source": [
    "# Kernel SHAP Implementation"
   ]
  },
  {
   "cell_type": "code",
   "execution_count": 2,
   "id": "fb99337e",
   "metadata": {},
   "outputs": [],
   "source": [
    "class SHAPkernel:\n",
    "    mask = []\n",
    "    \n",
    "    def __init__(self, X, y, model, nsample=50):\n",
    "        self.X = X\n",
    "        self.y = y\n",
    "        self.model = model\n",
    "        self.nsample = nsample\n",
    "        \n",
    "    def combinationMask(self,features_num):\n",
    "        arr_len = -1\n",
    "        mask = []\n",
    "        \n",
    "        for i in range(2**features_num-1,-1,-1):\n",
    "            binary_rep = bin(i).split(\"b\")[-1]\n",
    "            \n",
    "            #First time initialisation only\n",
    "            if arr_len == -1:\n",
    "                arr_len = len(binary_rep)\n",
    "                \n",
    "            mask.append([int(j) for j in binary_rep.rjust(arr_len,\"0\")])\n",
    "            \n",
    "        # delete extreme masks, to make sure weighting function denominator isnt zero\n",
    "        # As noted in the paper too.\n",
    "        mask.remove([1,]*arr_len) \n",
    "        mask.remove([0,]*arr_len) \n",
    "                \n",
    "        return np.array(mask)\n",
    "    \n",
    "    def combination(self, n, r):\n",
    "        def factorial(n):\n",
    "            prod = 1\n",
    "            for i in range(1, n+1):\n",
    "                 prod *= i \n",
    "            return prod\n",
    "        return factorial(n) / (factorial(n-r) * factorial(r))\n",
    "    \n",
    "    def weightage(self, indv_mask):\n",
    "        M = len(indv_mask)\n",
    "        z = sum(indv_mask)\n",
    "        \n",
    "        return (M - 1) / (self.combination(M,z) * z * (M - z))\n",
    "    \n",
    "    def linearRegression(self, X_row, y, masks):\n",
    "        X_row = np.array(X_row)\n",
    "        y = np.array(y)\n",
    "        \n",
    "        self.masks = masks\n",
    "        W = np.array([self.weightage(indv_mask) for indv_mask in masks])\n",
    "        W = np.diag(W)\n",
    "        \n",
    "        #print(\"zero mask\",(masks==0).shape)\n",
    "        #print(\"mean data\",np.array(self.X.mean()).shape)\n",
    "        #print(\"data with 0s\",(X_row * masks).shape)\n",
    "        \n",
    "        sample = np.matrix(self.X)\n",
    "        \n",
    "        #print(sample.shape)\n",
    "        generated_dataset = (np.array(sample[0]) * (masks==0)) + (X_row * masks)\n",
    "        for row in sample[1:]:\n",
    "            #print((np.array(row) * (masks==0))[3])\n",
    "            #print((X_row * masks)[3])\n",
    "            #print(\"\")\n",
    "            generated_dataset = np.vstack((generated_dataset, \n",
    "                                           (np.array(row) * (masks==0)) + (X_row * masks)\n",
    "                                         ))\n",
    "        \n",
    "        X = masks\n",
    "        y = self.model.predict(generated_dataset)\n",
    "        self.generated_dataset = generated_dataset\n",
    "        #print(type(y),y.shape)\n",
    "        expectaion = {}\n",
    "        for ind, y_val in enumerate(y):\n",
    "            if ind%32766 not in expectaion.keys():\n",
    "                expectaion[ind%32766] = []\n",
    "            expectaion[ind%32766].append(y_val)\n",
    "        y = np.matrix([np.mean(expectaion[i]) for i in range(32766)]).T\n",
    "        #print(X.shape)\n",
    "        #print(type(y),y.shape)\n",
    "        #print(y)\n",
    "        Beta0 = self.model.predict(np.matrix((np.array(self.X.mean()))))\n",
    "        \n",
    "        y = y - Beta0\n",
    "        \n",
    "        SHAP_values = np.dot(np.linalg.inv(np.dot(np.dot(X.transpose(), W), X)), np.dot(np.dot(X.transpose(), W), y))\n",
    "        \n",
    "        return SHAP_values\n",
    "    \n",
    "    def getSHAPvalues(self, datapoint):\n",
    "        masks = self.combinationMask(self.X.shape[1])\n",
    "        res = self.linearRegression(datapoint, self.y, masks)\n",
    "        return res"
   ]
  },
  {
   "cell_type": "markdown",
   "id": "da60c13d",
   "metadata": {},
   "source": [
    "# Training Model"
   ]
  },
  {
   "cell_type": "markdown",
   "id": "f835ab07",
   "metadata": {},
   "source": [
    "### Dataset Class to treat dataset with missing values"
   ]
  },
  {
   "cell_type": "code",
   "execution_count": 3,
   "id": "7396a5bc",
   "metadata": {},
   "outputs": [],
   "source": [
    "class Dataset:\n",
    "    def __init__(self, data, y):\n",
    "        numrc_cols = []\n",
    "        for col, val in zip((data.dtypes!=\"object\").index,data.dtypes!=\"object\"):\n",
    "            if val == True:\n",
    "                numrc_cols.append(col)\n",
    "        #Only including subset of the features, as including all features will take a lot of time to run (multiple hours)\n",
    "        data = data.loc[:100,numrc_cols[1:16]+[y,]]\n",
    "\n",
    "\n",
    "        #Imputing Missing Data\n",
    "        for col in data:\n",
    "            if data[col].dtypes==\"object\":\n",
    "                data[col].fillna(data[col].mode()[0], inplace = True)\n",
    "            else:\n",
    "                data[col].fillna(data[col].mean(), inplace = True)\n",
    "            \n",
    "        self.dataset = data\n",
    "        self.y = y\n",
    "        \n",
    "        self.X = self.dataset.loc[:,self.dataset.columns!=self.y]\n",
    "        self.y = self.dataset.loc[:,self.dataset.columns==self.y]\n",
    "        \n",
    "        self.Xmean = np.array(self.X.mean())\n",
    "        \n",
    "    def get_dataset(self):\n",
    "        return self.X, self.y"
   ]
  },
  {
   "cell_type": "markdown",
   "id": "d218f129",
   "metadata": {},
   "source": [
    "#### Training using Linear Regression model"
   ]
  },
  {
   "cell_type": "code",
   "execution_count": 4,
   "id": "2fdfe889",
   "metadata": {},
   "outputs": [
    {
     "data": {
      "text/plain": [
       "LinearRegression()"
      ]
     },
     "execution_count": 4,
     "metadata": {},
     "output_type": "execute_result"
    }
   ],
   "source": [
    "from sklearn import linear_model\n",
    "\n",
    "train = pd.read_csv(\"train.csv\")\n",
    "test = pd.read_csv(\"test.csv\")\n",
    "test[\"SalePrice\"] = 0 #Dummy variable to make sure both test and train dataset have same size\n",
    "\n",
    "#Seting up training data\n",
    "D_train = Dataset(train,\"SalePrice\")\n",
    "X_train, y_train = D_train.get_dataset()\n",
    "\n",
    "#Seting up testing data\n",
    "#D_test = Dataset(test,\"SalePrice\")\n",
    "#X_test, y_test = D_test.get_dataset()\n",
    "\n",
    "regr = linear_model.LinearRegression()\n",
    "\n",
    "# Train the model using the training sets\n",
    "regr.fit(X_train, y_train)"
   ]
  },
  {
   "cell_type": "markdown",
   "id": "9b21fe74",
   "metadata": {},
   "source": [
    "# Explaning predictions"
   ]
  },
  {
   "cell_type": "markdown",
   "id": "6f5b196d",
   "metadata": {},
   "source": [
    "#### Using KernelSHAP we explain the importance of each feature for a particular instance, to arrive at the regression models result"
   ]
  },
  {
   "cell_type": "code",
   "execution_count": 5,
   "id": "7d6f59c9",
   "metadata": {},
   "outputs": [],
   "source": [
    "kshap = SHAPkernel(X_train, y_train, regr)"
   ]
  },
  {
   "cell_type": "code",
   "execution_count": 6,
   "id": "63b9984c",
   "metadata": {},
   "outputs": [
    {
     "name": "stderr",
     "output_type": "stream",
     "text": [
      "Using 101 background data samples could cause slower run times. Consider using shap.sample(data, K) or shap.kmeans(data, K) to summarize the background as K samples.\n"
     ]
    },
    {
     "data": {
      "application/vnd.jupyter.widget-view+json": {
       "model_id": "eb1a6b0f46de4d5d950b105342488c51",
       "version_major": 2,
       "version_minor": 0
      },
      "text/plain": [
       "  0%|          | 0/101 [00:00<?, ?it/s]"
      ]
     },
     "metadata": {},
     "output_type": "display_data"
    }
   ],
   "source": [
    "import shap # For comparision\n",
    "\n",
    "explainer = shap.KernelExplainer(regr.predict, X_train)\n",
    "shap_values = explainer.shap_values(X_train)"
   ]
  },
  {
   "cell_type": "code",
   "execution_count": 9,
   "id": "db8f3ea2",
   "metadata": {},
   "outputs": [],
   "source": [
    "def Get_Explaination(row):\n",
    "    res = kshap.getSHAPvalues(X_train.iloc[row,:])\n",
    "    \n",
    "    comparison = pd.DataFrame()\n",
    "    comparison[\"correct values\"] = shap_values[0][row]\n",
    "    comparison[\"correct values\"] = round(comparison[\"correct values\"],2)\n",
    "    \n",
    "    comparison[\"implementation values\"] = pd.Series([i[0] for i in np.array(res)])\n",
    "    comparison[\"implementation values\"] = round(comparison[\"implementation values\"],2)\n",
    "    \n",
    "    comparison.index = X_train.columns\n",
    "    \n",
    "    comparison.loc[abs(comparison[\"implementation values\"]) < 1000,:] = 0\n",
    "    \"\"\"\n",
    "    As the shap library straightaway gives 0 shapley values, where ever the shapley values are relatively minor\n",
    "    \"\"\"\n",
    "    \n",
    "    comparison[\"difference(%)\"] = abs(comparison[\"correct values\"] - comparison[\"implementation values\"])*100/abs(comparison[\"implementation values\"])\n",
    "    comparison[\"difference(%)\"] = comparison[\"difference(%)\"].fillna(0)\n",
    "    comparison[\"difference(%)\"] = round(comparison[\"difference(%)\"],2)\n",
    "    comparison[\"difference(%)\"] = comparison[\"difference(%)\"].astype(\"str\") \n",
    "    comparison[\"difference(%)\"] = comparison[\"difference(%)\"]+\"%\"\n",
    "    \n",
    "    fig, axs = plt.subplots(1, 2)\n",
    "    \n",
    "    blank = comparison[\"correct values\"].cumsum().shift(1).fillna(0)\n",
    "    comparison[\"correct values\"].plot(kind='bar',stacked=True, bottom=blank, title=\"(Linear Regression)correct values\", ylabel=\"SHAP values\",\n",
    "                                     color=(comparison[\"correct values\"] > 0).map({True: 'g', False: 'r'}),\n",
    "                                     ax = axs[0])\n",
    "    \n",
    "    \n",
    "    blank = comparison[\"implementation values\"].cumsum().shift(1).fillna(0)\n",
    "    comparison[\"implementation values\"].plot(kind='bar',stacked=True, bottom=blank, title=\"(Linear Regression)implementation values\", ylabel=\"SHAP values\",\n",
    "                                            color=(comparison[\"implementation values\"] > 0).map({True: 'g', False: 'r'}),\n",
    "                                            ax = axs[1])\n",
    "    plt.subplots_adjust(left=0,right=1.5)\n",
    "    plt.show()\n",
    "    fig.savefig('regression_result.pdf',bbox_inches =\"tight\")\n",
    "    \n",
    "    return comparison"
   ]
  },
  {
   "cell_type": "code",
   "execution_count": 10,
   "id": "003b4112",
   "metadata": {},
   "outputs": [
    {
     "data": {
      "image/png": "[encoded data removed]",
      "text/plain": [
       "<Figure size 432x288 with 2 Axes>"
      ]
     },
     "metadata": {
      "needs_background": "light"
     },
     "output_type": "display_data"
    },
    {
     "data": {
      "text/html": [
       "<div>\n",
       "<style scoped>\n",
       "    .dataframe tbody tr th:only-of-type {\n",
       "        vertical-align: middle;\n",
       "    }\n",
       "\n",
       "    .dataframe tbody tr th {\n",
       "        vertical-align: top;\n",
       "    }\n",
       "\n",
       "    .dataframe thead th {\n",
       "        text-align: right;\n",
       "    }\n",
       "</style>\n",
       "<table border=\"1\" class=\"dataframe\">\n",
       "  <thead>\n",
       "    <tr style=\"text-align: right;\">\n",
       "      <th></th>\n",
       "      <th>correct values</th>\n",
       "      <th>implementation values</th>\n",
       "      <th>difference(%)</th>\n",
       "    </tr>\n",
       "  </thead>\n",
       "  <tbody>\n",
       "    <tr>\n",
       "      <th>MSSubClass</th>\n",
       "      <td>0.00</td>\n",
       "      <td>0.00</td>\n",
       "      <td>0.0%</td>\n",
       "    </tr>\n",
       "    <tr>\n",
       "      <th>LotFrontage</th>\n",
       "      <td>0.00</td>\n",
       "      <td>0.00</td>\n",
       "      <td>0.0%</td>\n",
       "    </tr>\n",
       "    <tr>\n",
       "      <th>LotArea</th>\n",
       "      <td>-4385.58</td>\n",
       "      <td>-4250.25</td>\n",
       "      <td>3.18%</td>\n",
       "    </tr>\n",
       "    <tr>\n",
       "      <th>OverallQual</th>\n",
       "      <td>18377.94</td>\n",
       "      <td>18515.40</td>\n",
       "      <td>0.74%</td>\n",
       "    </tr>\n",
       "    <tr>\n",
       "      <th>OverallCond</th>\n",
       "      <td>-3373.73</td>\n",
       "      <td>-3260.49</td>\n",
       "      <td>3.47%</td>\n",
       "    </tr>\n",
       "    <tr>\n",
       "      <th>YearBuilt</th>\n",
       "      <td>17141.08</td>\n",
       "      <td>17268.54</td>\n",
       "      <td>0.74%</td>\n",
       "    </tr>\n",
       "    <tr>\n",
       "      <th>YearRemodAdd</th>\n",
       "      <td>4705.86</td>\n",
       "      <td>4863.26</td>\n",
       "      <td>3.24%</td>\n",
       "    </tr>\n",
       "    <tr>\n",
       "      <th>MasVnrArea</th>\n",
       "      <td>1775.10</td>\n",
       "      <td>1890.75</td>\n",
       "      <td>6.12%</td>\n",
       "    </tr>\n",
       "    <tr>\n",
       "      <th>BsmtFinSF1</th>\n",
       "      <td>0.00</td>\n",
       "      <td>0.00</td>\n",
       "      <td>0.0%</td>\n",
       "    </tr>\n",
       "    <tr>\n",
       "      <th>BsmtFinSF2</th>\n",
       "      <td>0.00</td>\n",
       "      <td>0.00</td>\n",
       "      <td>0.0%</td>\n",
       "    </tr>\n",
       "    <tr>\n",
       "      <th>BsmtUnfSF</th>\n",
       "      <td>0.00</td>\n",
       "      <td>0.00</td>\n",
       "      <td>0.0%</td>\n",
       "    </tr>\n",
       "    <tr>\n",
       "      <th>TotalBsmtSF</th>\n",
       "      <td>-2135.36</td>\n",
       "      <td>-1992.69</td>\n",
       "      <td>7.16%</td>\n",
       "    </tr>\n",
       "    <tr>\n",
       "      <th>1stFlrSF</th>\n",
       "      <td>-13644.40</td>\n",
       "      <td>-13523.74</td>\n",
       "      <td>0.89%</td>\n",
       "    </tr>\n",
       "    <tr>\n",
       "      <th>2ndFlrSF</th>\n",
       "      <td>23588.97</td>\n",
       "      <td>23743.95</td>\n",
       "      <td>0.65%</td>\n",
       "    </tr>\n",
       "    <tr>\n",
       "      <th>LowQualFinSF</th>\n",
       "      <td>0.00</td>\n",
       "      <td>0.00</td>\n",
       "      <td>0.0%</td>\n",
       "    </tr>\n",
       "  </tbody>\n",
       "</table>\n",
       "</div>"
      ],
      "text/plain": [
       "              correct values  implementation values difference(%)\n",
       "MSSubClass              0.00                   0.00          0.0%\n",
       "LotFrontage             0.00                   0.00          0.0%\n",
       "LotArea             -4385.58               -4250.25         3.18%\n",
       "OverallQual         18377.94               18515.40         0.74%\n",
       "OverallCond         -3373.73               -3260.49         3.47%\n",
       "YearBuilt           17141.08               17268.54         0.74%\n",
       "YearRemodAdd         4705.86                4863.26         3.24%\n",
       "MasVnrArea           1775.10                1890.75         6.12%\n",
       "BsmtFinSF1              0.00                   0.00          0.0%\n",
       "BsmtFinSF2              0.00                   0.00          0.0%\n",
       "BsmtUnfSF               0.00                   0.00          0.0%\n",
       "TotalBsmtSF         -2135.36               -1992.69         7.16%\n",
       "1stFlrSF           -13644.40              -13523.74         0.89%\n",
       "2ndFlrSF            23588.97               23743.95         0.65%\n",
       "LowQualFinSF            0.00                   0.00          0.0%"
      ]
     },
     "execution_count": 10,
     "metadata": {},
     "output_type": "execute_result"
    }
   ],
   "source": [
    "Get_Explaination(0)"
   ]
  },
  {
   "cell_type": "code",
   "execution_count": 11,
   "id": "435c4f13",
   "metadata": {},
   "outputs": [
    {
     "data": {
      "image/png": "[encoded data removed]",
      "text/plain": [
       "<Figure size 432x288 with 2 Axes>"
      ]
     },
     "metadata": {
      "needs_background": "light"
     },
     "output_type": "display_data"
    },
    {
     "data": {
      "text/html": [
       "<div>\n",
       "<style scoped>\n",
       "    .dataframe tbody tr th:only-of-type {\n",
       "        vertical-align: middle;\n",
       "    }\n",
       "\n",
       "    .dataframe tbody tr th {\n",
       "        vertical-align: top;\n",
       "    }\n",
       "\n",
       "    .dataframe thead th {\n",
       "        text-align: right;\n",
       "    }\n",
       "</style>\n",
       "<table border=\"1\" class=\"dataframe\">\n",
       "  <thead>\n",
       "    <tr style=\"text-align: right;\">\n",
       "      <th></th>\n",
       "      <th>correct values</th>\n",
       "      <th>implementation values</th>\n",
       "      <th>difference(%)</th>\n",
       "    </tr>\n",
       "  </thead>\n",
       "  <tbody>\n",
       "    <tr>\n",
       "      <th>MSSubClass</th>\n",
       "      <td>-3824.85</td>\n",
       "      <td>-3788.61</td>\n",
       "      <td>0.96%</td>\n",
       "    </tr>\n",
       "    <tr>\n",
       "      <th>LotFrontage</th>\n",
       "      <td>0.00</td>\n",
       "      <td>0.00</td>\n",
       "      <td>0.0%</td>\n",
       "    </tr>\n",
       "    <tr>\n",
       "      <th>LotArea</th>\n",
       "      <td>-7205.72</td>\n",
       "      <td>-7142.79</td>\n",
       "      <td>0.88%</td>\n",
       "    </tr>\n",
       "    <tr>\n",
       "      <th>OverallQual</th>\n",
       "      <td>54748.77</td>\n",
       "      <td>54827.17</td>\n",
       "      <td>0.14%</td>\n",
       "    </tr>\n",
       "    <tr>\n",
       "      <th>OverallCond</th>\n",
       "      <td>-3317.18</td>\n",
       "      <td>-3260.49</td>\n",
       "      <td>1.74%</td>\n",
       "    </tr>\n",
       "    <tr>\n",
       "      <th>YearBuilt</th>\n",
       "      <td>18294.13</td>\n",
       "      <td>18363.75</td>\n",
       "      <td>0.38%</td>\n",
       "    </tr>\n",
       "    <tr>\n",
       "      <th>YearRemodAdd</th>\n",
       "      <td>5306.77</td>\n",
       "      <td>5377.59</td>\n",
       "      <td>1.32%</td>\n",
       "    </tr>\n",
       "    <tr>\n",
       "      <th>MasVnrArea</th>\n",
       "      <td>3078.09</td>\n",
       "      <td>3146.44</td>\n",
       "      <td>2.17%</td>\n",
       "    </tr>\n",
       "    <tr>\n",
       "      <th>BsmtFinSF1</th>\n",
       "      <td>0.00</td>\n",
       "      <td>0.00</td>\n",
       "      <td>0.0%</td>\n",
       "    </tr>\n",
       "    <tr>\n",
       "      <th>BsmtFinSF2</th>\n",
       "      <td>0.00</td>\n",
       "      <td>0.00</td>\n",
       "      <td>0.0%</td>\n",
       "    </tr>\n",
       "    <tr>\n",
       "      <th>BsmtUnfSF</th>\n",
       "      <td>0.00</td>\n",
       "      <td>0.00</td>\n",
       "      <td>0.0%</td>\n",
       "    </tr>\n",
       "    <tr>\n",
       "      <th>TotalBsmtSF</th>\n",
       "      <td>5081.99</td>\n",
       "      <td>5144.60</td>\n",
       "      <td>1.22%</td>\n",
       "    </tr>\n",
       "    <tr>\n",
       "      <th>1stFlrSF</th>\n",
       "      <td>19046.15</td>\n",
       "      <td>19111.16</td>\n",
       "      <td>0.34%</td>\n",
       "    </tr>\n",
       "    <tr>\n",
       "      <th>2ndFlrSF</th>\n",
       "      <td>-12523.39</td>\n",
       "      <td>-12482.87</td>\n",
       "      <td>0.32%</td>\n",
       "    </tr>\n",
       "    <tr>\n",
       "      <th>LowQualFinSF</th>\n",
       "      <td>0.00</td>\n",
       "      <td>0.00</td>\n",
       "      <td>0.0%</td>\n",
       "    </tr>\n",
       "  </tbody>\n",
       "</table>\n",
       "</div>"
      ],
      "text/plain": [
       "              correct values  implementation values difference(%)\n",
       "MSSubClass          -3824.85               -3788.61         0.96%\n",
       "LotFrontage             0.00                   0.00          0.0%\n",
       "LotArea             -7205.72               -7142.79         0.88%\n",
       "OverallQual         54748.77               54827.17         0.14%\n",
       "OverallCond         -3317.18               -3260.49         1.74%\n",
       "YearBuilt           18294.13               18363.75         0.38%\n",
       "YearRemodAdd         5306.77                5377.59         1.32%\n",
       "MasVnrArea           3078.09                3146.44         2.17%\n",
       "BsmtFinSF1              0.00                   0.00          0.0%\n",
       "BsmtFinSF2              0.00                   0.00          0.0%\n",
       "BsmtUnfSF               0.00                   0.00          0.0%\n",
       "TotalBsmtSF          5081.99                5144.60         1.22%\n",
       "1stFlrSF            19046.15               19111.16         0.34%\n",
       "2ndFlrSF           -12523.39              -12482.87         0.32%\n",
       "LowQualFinSF            0.00                   0.00          0.0%"
      ]
     },
     "execution_count": 11,
     "metadata": {},
     "output_type": "execute_result"
    }
   ],
   "source": [
    "Get_Explaination(34)"
   ]
  },
  {
   "cell_type": "markdown",
   "id": "764e0396",
   "metadata": {},
   "source": [
    "# Training Model"
   ]
  },
  {
   "cell_type": "markdown",
   "id": "a9c47fac",
   "metadata": {},
   "source": [
    "#### Training using XGBoost model"
   ]
  },
  {
   "cell_type": "code",
   "execution_count": 12,
   "id": "405243fd",
   "metadata": {},
   "outputs": [
    {
     "data": {
      "text/plain": [
       "XGBRegressor(alpha=10, base_score=0.5, booster='gbtree', colsample_bylevel=1,\n",
       "             colsample_bynode=1, colsample_bytree=0.3, enable_categorical=False,\n",
       "             gamma=0, gpu_id=-1, importance_type=None,\n",
       "             interaction_constraints='', learning_rate=0.1, max_delta_step=0,\n",
       "             max_depth=5, min_child_weight=1, missing=nan,\n",
       "             monotone_constraints='()', n_estimators=5000, n_jobs=16,\n",
       "             num_parallel_tree=1, predictor='auto', random_state=0,\n",
       "             reg_alpha=10, reg_lambda=1, scale_pos_weight=1, subsample=1,\n",
       "             tree_method='exact', validate_parameters=1, verbosity=None)"
      ]
     },
     "execution_count": 12,
     "metadata": {},
     "output_type": "execute_result"
    }
   ],
   "source": [
    "import xgboost as xgb\n",
    "\n",
    "train = pd.read_csv(\"train.csv\")\n",
    "test = pd.read_csv(\"test.csv\")\n",
    "test[\"SalePrice\"] = 0 #Dummy variable to make sure both test and train dataset have same size\n",
    "\n",
    "#Seting up training data\n",
    "D_train = Dataset(train,\"SalePrice\")\n",
    "X_train, y_train = D_train.get_dataset()\n",
    "\n",
    "#Seting up testing data\n",
    "#D_test = Dataset(test,\"SalePrice\")\n",
    "#X_test, y_test = D_test.get_dataset()\n",
    "\n",
    "xgb_model = xgb.XGBRegressor(objective ='reg:squarederror', \n",
    "                             colsample_bytree = 0.3, \n",
    "                             learning_rate = 0.1,\n",
    "                             max_depth = 5, \n",
    "                             alpha = 10, \n",
    "                             n_estimators = 5000)\n",
    "\n",
    "# Train the model using the training sets\n",
    "xgb_model.fit(X_train, y_train)"
   ]
  },
  {
   "cell_type": "markdown",
   "id": "8502cebf",
   "metadata": {},
   "source": [
    "# Explaning predictions"
   ]
  },
  {
   "cell_type": "markdown",
   "id": "141ca4a9",
   "metadata": {},
   "source": [
    "#### Using KernelSHAP we explain the importance of each feature for a particular instance, to arrive at the XGB models result"
   ]
  },
  {
   "cell_type": "code",
   "execution_count": 13,
   "id": "1d472c68",
   "metadata": {},
   "outputs": [],
   "source": [
    "kshap = SHAPkernel(X_train, y_train, xgb_model)"
   ]
  },
  {
   "cell_type": "code",
   "execution_count": 14,
   "id": "735a159c",
   "metadata": {},
   "outputs": [
    {
     "name": "stderr",
     "output_type": "stream",
     "text": [
      "Using 101 background data samples could cause slower run times. Consider using shap.sample(data, K) or shap.kmeans(data, K) to summarize the background as K samples.\n"
     ]
    },
    {
     "data": {
      "application/vnd.jupyter.widget-view+json": {
       "model_id": "b16d21ae3bf44da2a9ed455e69aaec49",
       "version_major": 2,
       "version_minor": 0
      },
      "text/plain": [
       "  0%|          | 0/101 [00:00<?, ?it/s]"
      ]
     },
     "metadata": {},
     "output_type": "display_data"
    }
   ],
   "source": [
    "import shap # For comparision\n",
    "\n",
    "explainer = shap.KernelExplainer(xgb_model.predict, X_train)\n",
    "shap_values = explainer.shap_values(X_train)#, nsamples=50)"
   ]
  },
  {
   "cell_type": "code",
   "execution_count": 15,
   "id": "4c4b9d1e",
   "metadata": {},
   "outputs": [],
   "source": [
    "def Get_Explaination(row):\n",
    "    res = kshap.getSHAPvalues(X_train.iloc[row,:])\n",
    "    \n",
    "    comparison = pd.DataFrame()\n",
    "    comparison[\"correct values\"] = shap_values[row]\n",
    "    comparison[\"correct values\"] = round(comparison[\"correct values\"],2)\n",
    "    \n",
    "    comparison[\"implementation values\"] = pd.Series([i[0] for i in np.array(res)])\n",
    "    comparison[\"implementation values\"] = round(comparison[\"implementation values\"],2)\n",
    "    \n",
    "    comparison.index = X_train.columns\n",
    "    \n",
    "    comparison.loc[abs(comparison[\"implementation values\"]) < 1000,:] = 0\n",
    "    \"\"\"\n",
    "    As the shap library straightaway gives 0 shapley values, where ever the shapley values are relatively minor\n",
    "    \"\"\"\n",
    "    \n",
    "    comparison[\"difference(%)\"] = abs(comparison[\"correct values\"] - comparison[\"implementation values\"])*100/abs(comparison[\"implementation values\"])\n",
    "    comparison[\"difference(%)\"] = comparison[\"difference(%)\"].fillna(0)\n",
    "    comparison[\"difference(%)\"] = round(comparison[\"difference(%)\"],2)\n",
    "    comparison[\"difference(%)\"] = comparison[\"difference(%)\"].astype(\"str\") \n",
    "    comparison[\"difference(%)\"] = comparison[\"difference(%)\"]+\"%\"\n",
    "    \n",
    "    fig, axs = plt.subplots(1, 2)\n",
    "    \n",
    "    blank = comparison[\"correct values\"].cumsum().shift(1).fillna(0)\n",
    "    comparison[\"correct values\"].plot(kind='bar',stacked=True, bottom=blank, title=\"(Xgboost)correct values\", ylabel=\"SHAP values\",\n",
    "                                     color=(comparison[\"correct values\"] > 0).map({True: 'g', False: 'r'}),\n",
    "                                     ax=axs[0])\n",
    "    \n",
    "    \n",
    "    blank = comparison[\"implementation values\"].cumsum().shift(1).fillna(0)\n",
    "    comparison[\"implementation values\"].plot(kind='bar',stacked=True, bottom=blank, title=\"(Xgboost)implementation values\", ylabel=\"SHAP values\",\n",
    "                                            color=(comparison[\"implementation values\"] > 0).map({True: 'g', False: 'r'}),\n",
    "                                            ax=axs[1])\n",
    "    \n",
    "    plt.subplots_adjust(left=0,right=1.5)\n",
    "    plt.show()\n",
    "    fig.savefig('xgboost_result.pdf',bbox_inches =\"tight\")\n",
    "    \n",
    "    \n",
    "    return comparison"
   ]
  },
  {
   "cell_type": "code",
   "execution_count": 16,
   "id": "568770f3",
   "metadata": {},
   "outputs": [
    {
     "data": {
      "image/png": "[encoded data removed]",
      "text/plain": [
       "<Figure size 432x288 with 2 Axes>"
      ]
     },
     "metadata": {
      "needs_background": "light"
     },
     "output_type": "display_data"
    },
    {
     "name": "stdout",
     "output_type": "stream",
     "text": [
      "              correct values  implementation values difference(%)\n",
      "MSSubClass           3653.39                3381.05         8.05%\n",
      "LotFrontage          2303.45                1990.44        15.73%\n",
      "LotArea             13188.90               12817.15          2.9%\n",
      "OverallQual         20944.41               20638.99         1.48%\n",
      "OverallCond          3292.49                2984.01        10.34%\n",
      "YearBuilt           20719.08               20396.22         1.58%\n",
      "YearRemodAdd         6479.38                6139.06         5.54%\n",
      "MasVnrArea          17686.99               17424.19         1.51%\n",
      "BsmtFinSF1              0.00               -1352.83        100.0%\n",
      "BsmtFinSF2              0.00                   0.00          0.0%\n",
      "BsmtUnfSF           13465.99               13177.93         2.19%\n",
      "TotalBsmtSF          3077.40                2785.78        10.47%\n",
      "1stFlrSF             4458.34                4175.96         6.76%\n",
      "2ndFlrSF            41893.00               41644.48          0.6%\n",
      "LowQualFinSF            0.00                   0.00          0.0%\n"
     ]
    }
   ],
   "source": [
    "print(Get_Explaination(20))"
   ]
  },
  {
   "cell_type": "code",
   "execution_count": 17,
   "id": "776390d2",
   "metadata": {
    "scrolled": false
   },
   "outputs": [
    {
     "data": {
      "image/png": "[encoded data removed]",
      "text/plain": [
       "<Figure size 432x288 with 2 Axes>"
      ]
     },
     "metadata": {
      "needs_background": "light"
     },
     "output_type": "display_data"
    },
    {
     "name": "stdout",
     "output_type": "stream",
     "text": [
      "              correct values  implementation values difference(%)\n",
      "MSSubClass          -2270.96               -1986.89         14.3%\n",
      "LotFrontage         -3451.20               -3177.58         8.61%\n",
      "LotArea             -5427.31               -5143.46         5.52%\n",
      "OverallQual         57199.46               57489.96         0.51%\n",
      "OverallCond           832.19                1138.42         26.9%\n",
      "YearBuilt           19337.11               19618.56         1.43%\n",
      "YearRemodAdd         3729.29                4021.94         7.28%\n",
      "MasVnrArea          10276.16               10566.28         2.75%\n",
      "BsmtFinSF1            966.14                1247.32        22.54%\n",
      "BsmtFinSF2              0.00                   0.00          0.0%\n",
      "BsmtUnfSF            1295.79                1594.00        18.71%\n",
      "TotalBsmtSF          8223.54                8496.29         3.21%\n",
      "1stFlrSF            15718.59               15993.21         1.72%\n",
      "2ndFlrSF            -3058.08               -2771.26        10.35%\n",
      "LowQualFinSF            0.00                   0.00          0.0%\n"
     ]
    }
   ],
   "source": [
    "print(Get_Explaination(34))"
   ]
  },
  {
   "cell_type": "code",
   "execution_count": null,
   "id": "3a78d63a",
   "metadata": {},
   "outputs": [],
   "source": []
  }
 ],
 "metadata": {
  "kernelspec": {
   "display_name": "Python 3 (ipykernel)",
   "language": "python",
   "name": "python3"
  },
  "language_info": {
   "codemirror_mode": {
    "name": "ipython",
    "version": 3
   },
   "file_extension": ".py",
   "mimetype": "text/x-python",
   "name": "python",
   "nbconvert_exporter": "python",
   "pygments_lexer": "ipython3",
   "version": "3.7.10"
  }
 },
 "nbformat": 4,
 "nbformat_minor": 5
}
